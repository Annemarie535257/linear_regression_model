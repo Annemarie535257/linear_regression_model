{
 "cells": [
  {
   "cell_type": "code",
   "execution_count": 1,
   "metadata": {},
   "outputs": [],
   "source": [
    "import pandas as pd\n",
    "import numpy as np\n",
    "import seaborn as sns\n",
    "import matplotlib.pyplot as plt\n",
    "import joblib\n",
    "from sklearn.model_selection import train_test_split, GridSearchCV\n",
    "from sklearn.preprocessing import StandardScaler\n",
    "from sklearn.linear_model import LinearRegression, SGDRegressor\n",
    "from sklearn.tree import DecisionTreeRegressor\n",
    "from sklearn.ensemble import RandomForestRegressor\n",
    "from sklearn.metrics import mean_squared_error, r2_score"
   ]
  },
  {
   "cell_type": "code",
   "execution_count": 2,
   "metadata": {},
   "outputs": [
    {
     "data": {
      "text/html": [
       "<div>\n",
       "<style scoped>\n",
       "    .dataframe tbody tr th:only-of-type {\n",
       "        vertical-align: middle;\n",
       "    }\n",
       "\n",
       "    .dataframe tbody tr th {\n",
       "        vertical-align: top;\n",
       "    }\n",
       "\n",
       "    .dataframe thead th {\n",
       "        text-align: right;\n",
       "    }\n",
       "</style>\n",
       "<table border=\"1\" class=\"dataframe\">\n",
       "  <thead>\n",
       "    <tr style=\"text-align: right;\">\n",
       "      <th></th>\n",
       "      <th>Day</th>\n",
       "      <th>Temperature</th>\n",
       "      <th>MC(%)</th>\n",
       "      <th>pH</th>\n",
       "      <th>C/N Ratio</th>\n",
       "      <th>Ammonia(mg/kg)</th>\n",
       "      <th>Nitrate(mg/kg)</th>\n",
       "      <th>TN(%)</th>\n",
       "      <th>TOC(%)</th>\n",
       "      <th>EC(ms/cm)</th>\n",
       "      <th>OM(%)</th>\n",
       "      <th>T Value</th>\n",
       "      <th>GI(%)</th>\n",
       "      <th>Score</th>\n",
       "    </tr>\n",
       "  </thead>\n",
       "  <tbody>\n",
       "    <tr>\n",
       "      <th>0</th>\n",
       "      <td>0</td>\n",
       "      <td>35.463</td>\n",
       "      <td>60.0000</td>\n",
       "      <td>5.7345</td>\n",
       "      <td>26.7755</td>\n",
       "      <td>2515.0</td>\n",
       "      <td>325.49</td>\n",
       "      <td>1.80632</td>\n",
       "      <td>48.365121</td>\n",
       "      <td>1.7846</td>\n",
       "      <td>83.381469</td>\n",
       "      <td>1.000000</td>\n",
       "      <td>32.8821</td>\n",
       "      <td>28.042095</td>\n",
       "    </tr>\n",
       "    <tr>\n",
       "      <th>1</th>\n",
       "      <td>3</td>\n",
       "      <td>41.866</td>\n",
       "      <td>56.8814</td>\n",
       "      <td>7.1327</td>\n",
       "      <td>23.0494</td>\n",
       "      <td>3449.1</td>\n",
       "      <td>302.42</td>\n",
       "      <td>1.92498</td>\n",
       "      <td>44.369634</td>\n",
       "      <td>2.4366</td>\n",
       "      <td>76.493249</td>\n",
       "      <td>0.860839</td>\n",
       "      <td>39.4615</td>\n",
       "      <td>36.185328</td>\n",
       "    </tr>\n",
       "    <tr>\n",
       "      <th>2</th>\n",
       "      <td>6</td>\n",
       "      <td>59.134</td>\n",
       "      <td>53.0847</td>\n",
       "      <td>7.9646</td>\n",
       "      <td>20.4697</td>\n",
       "      <td>5197.6</td>\n",
       "      <td>243.40</td>\n",
       "      <td>1.83675</td>\n",
       "      <td>37.597721</td>\n",
       "      <td>3.0118</td>\n",
       "      <td>64.818472</td>\n",
       "      <td>0.764494</td>\n",
       "      <td>30.5469</td>\n",
       "      <td>37.074037</td>\n",
       "    </tr>\n",
       "    <tr>\n",
       "      <th>3</th>\n",
       "      <td>9</td>\n",
       "      <td>53.119</td>\n",
       "      <td>49.4237</td>\n",
       "      <td>8.1770</td>\n",
       "      <td>18.7500</td>\n",
       "      <td>1940.1</td>\n",
       "      <td>203.99</td>\n",
       "      <td>1.78550</td>\n",
       "      <td>33.478125</td>\n",
       "      <td>3.1566</td>\n",
       "      <td>57.716287</td>\n",
       "      <td>0.700267</td>\n",
       "      <td>63.1219</td>\n",
       "      <td>51.246933</td>\n",
       "    </tr>\n",
       "    <tr>\n",
       "      <th>4</th>\n",
       "      <td>12</td>\n",
       "      <td>38.955</td>\n",
       "      <td>45.2203</td>\n",
       "      <td>8.0177</td>\n",
       "      <td>17.0303</td>\n",
       "      <td>814.4</td>\n",
       "      <td>200.52</td>\n",
       "      <td>1.91893</td>\n",
       "      <td>32.679954</td>\n",
       "      <td>3.5596</td>\n",
       "      <td>56.340240</td>\n",
       "      <td>0.636040</td>\n",
       "      <td>79.4691</td>\n",
       "      <td>59.698282</td>\n",
       "    </tr>\n",
       "  </tbody>\n",
       "</table>\n",
       "</div>"
      ],
      "text/plain": [
       "   Day  Temperature    MC(%)      pH  C/N Ratio  Ammonia(mg/kg)  \\\n",
       "0    0       35.463  60.0000  5.7345    26.7755          2515.0   \n",
       "1    3       41.866  56.8814  7.1327    23.0494          3449.1   \n",
       "2    6       59.134  53.0847  7.9646    20.4697          5197.6   \n",
       "3    9       53.119  49.4237  8.1770    18.7500          1940.1   \n",
       "4   12       38.955  45.2203  8.0177    17.0303           814.4   \n",
       "\n",
       "   Nitrate(mg/kg)    TN(%)     TOC(%)  EC(ms/cm)      OM(%)   T Value  \\\n",
       "0          325.49  1.80632  48.365121     1.7846  83.381469  1.000000   \n",
       "1          302.42  1.92498  44.369634     2.4366  76.493249  0.860839   \n",
       "2          243.40  1.83675  37.597721     3.0118  64.818472  0.764494   \n",
       "3          203.99  1.78550  33.478125     3.1566  57.716287  0.700267   \n",
       "4          200.52  1.91893  32.679954     3.5596  56.340240  0.636040   \n",
       "\n",
       "     GI(%)      Score  \n",
       "0  32.8821  28.042095  \n",
       "1  39.4615  36.185328  \n",
       "2  30.5469  37.074037  \n",
       "3  63.1219  51.246933  \n",
       "4  79.4691  59.698282  "
      ]
     },
     "metadata": {},
     "output_type": "display_data"
    },
    {
     "name": "stdout",
     "output_type": "stream",
     "text": [
      "<class 'pandas.core.frame.DataFrame'>\n",
      "RangeIndex: 452 entries, 0 to 451\n",
      "Data columns (total 14 columns):\n",
      " #   Column          Non-Null Count  Dtype  \n",
      "---  ------          --------------  -----  \n",
      " 0   Day             452 non-null    int64  \n",
      " 1   Temperature     452 non-null    float64\n",
      " 2   MC(%)           452 non-null    float64\n",
      " 3   pH              452 non-null    float64\n",
      " 4   C/N Ratio       452 non-null    float64\n",
      " 5   Ammonia(mg/kg)  452 non-null    float64\n",
      " 6   Nitrate(mg/kg)  452 non-null    float64\n",
      " 7   TN(%)           452 non-null    float64\n",
      " 8   TOC(%)          452 non-null    float64\n",
      " 9   EC(ms/cm)       452 non-null    float64\n",
      " 10  OM(%)           452 non-null    float64\n",
      " 11  T Value         452 non-null    float64\n",
      " 12  GI(%)           452 non-null    float64\n",
      " 13  Score           452 non-null    float64\n",
      "dtypes: float64(13), int64(1)\n",
      "memory usage: 49.6 KB\n"
     ]
    },
    {
     "data": {
      "text/plain": [
       "None"
      ]
     },
     "metadata": {},
     "output_type": "display_data"
    }
   ],
   "source": [
    "# Load the dataset\n",
    "file_path = \"Compost Data.csv\"  # Ensure this file is uploaded\n",
    "try:\n",
    "    df = pd.read_csv(file_path)\n",
    "except FileNotFoundError:\n",
    "    print(\"Dataset file not found. Please upload 'Compost Data.csv'.\")\n",
    "    exit()\n",
    "\n",
    "# Display dataset structure\n",
    "display(df.head())\n",
    "display(df.info())"
   ]
  },
  {
   "cell_type": "code",
   "execution_count": 3,
   "metadata": {},
   "outputs": [],
   "source": [
    "# Handle missing values\n",
    "df.fillna(df.median(), inplace=True)\n"
   ]
  },
  {
   "cell_type": "code",
   "execution_count": 4,
   "metadata": {},
   "outputs": [],
   "source": [
    "# Check for outliers using IQR method\n",
    "Q1 = df.quantile(0.25)\n",
    "Q3 = df.quantile(0.75)\n",
    "IQR = Q3 - Q1\n",
    "outlier_mask = (df < (Q1 - 1.5 * IQR)) | (df > (Q3 + 1.5 * IQR))\n",
    "df = df[~outlier_mask.any(axis=1)]  # Remove rows with outliers"
   ]
  },
  {
   "cell_type": "code",
   "execution_count": 5,
   "metadata": {},
   "outputs": [],
   "source": [
    "# Select relevant features and target variable\n",
    "features = ['Day', 'Temperature', 'MC(%)', 'pH', 'C/N Ratio', 'Ammonia(mg/kg)',\n",
    "            'Nitrate(mg/kg)', 'TN(%)', 'TOC(%)', 'EC(ms/cm)', 'OM(%)', 'T Value', 'GI(%)']\n",
    "target = 'Score'"
   ]
  },
  {
   "cell_type": "code",
   "execution_count": 7,
   "metadata": {},
   "outputs": [],
   "source": [
    "# Standardizing the dataset\n",
    "scaler = StandardScaler()\n",
    "X_scaled = scaler.fit_transform(df[features])\n",
    "\n",
    "joblib.dump(scaler, \"scaler.pkl\")  # Save the fitted scaler\n",
    "\n",
    "\n",
    "# Splitting data into training and test sets\n",
    "X_train, X_test, y_train, y_test = train_test_split(X_scaled, df[target], test_size=0.2, random_state=42)"
   ]
  },
  {
   "cell_type": "code",
   "execution_count": 8,
   "metadata": {},
   "outputs": [],
   "source": [
    "# Train models and tune hyperparameters\n",
    "models = {\n",
    "    \"Linear Regression\": LinearRegression(),\n",
    "    \"SGD Regressor\": SGDRegressor(max_iter=1000, tol=1e-3, random_state=42),\n",
    "    \"Decision Tree\": GridSearchCV(DecisionTreeRegressor(random_state=42), param_grid={'max_depth': [3, 5, 10]}, cv=3),\n",
    "    \"Random Forest\": GridSearchCV(RandomForestRegressor(random_state=42), param_grid={'n_estimators': [50, 100, 200]}, cv=3)\n",
    "}\n"
   ]
  },
  {
   "cell_type": "code",
   "execution_count": 9,
   "metadata": {},
   "outputs": [
    {
     "name": "stdout",
     "output_type": "stream",
     "text": [
      "Linear Regression - MSE: 0.0000, R²: 1.0000\n",
      "SGD Regressor - MSE: 0.0117, R²: 0.9999\n",
      "Decision Tree - MSE: 9.9047, R²: 0.9533\n",
      "Random Forest - MSE: 3.7165, R²: 0.9825\n"
     ]
    }
   ],
   "source": [
    "# Store MSE values\n",
    "mse_results = {}\n",
    "best_model = None\n",
    "lowest_mse = float(\"inf\")\n",
    "\n",
    "for model_name, model in models.items():\n",
    "    model.fit(X_train, y_train)\n",
    "    y_pred = model.predict(X_test)\n",
    "    mse = mean_squared_error(y_test, y_pred)\n",
    "    mse_results[model_name] = mse\n",
    "    print(f\"{model_name} - MSE: {mse:.4f}, R²: {r2_score(y_test, y_pred):.4f}\")\n",
    "    \n",
    "    # Save the best model\n",
    "    if mse < lowest_mse:\n",
    "        lowest_mse = mse\n",
    "        best_model = model"
   ]
  },
  {
   "cell_type": "code",
   "execution_count": 10,
   "metadata": {},
   "outputs": [
    {
     "name": "stdout",
     "output_type": "stream",
     "text": [
      "Best model saved as 'best_model.pkl'\n"
     ]
    },
    {
     "data": {
      "text/html": [
       "<div>\n",
       "<style scoped>\n",
       "    .dataframe tbody tr th:only-of-type {\n",
       "        vertical-align: middle;\n",
       "    }\n",
       "\n",
       "    .dataframe tbody tr th {\n",
       "        vertical-align: top;\n",
       "    }\n",
       "\n",
       "    .dataframe thead th {\n",
       "        text-align: right;\n",
       "    }\n",
       "</style>\n",
       "<table border=\"1\" class=\"dataframe\">\n",
       "  <thead>\n",
       "    <tr style=\"text-align: right;\">\n",
       "      <th></th>\n",
       "      <th>Model</th>\n",
       "      <th>MSE</th>\n",
       "    </tr>\n",
       "  </thead>\n",
       "  <tbody>\n",
       "    <tr>\n",
       "      <th>0</th>\n",
       "      <td>Linear Regression</td>\n",
       "      <td>1.496111e-16</td>\n",
       "    </tr>\n",
       "    <tr>\n",
       "      <th>1</th>\n",
       "      <td>SGD Regressor</td>\n",
       "      <td>1.168560e-02</td>\n",
       "    </tr>\n",
       "    <tr>\n",
       "      <th>2</th>\n",
       "      <td>Decision Tree</td>\n",
       "      <td>9.904738e+00</td>\n",
       "    </tr>\n",
       "    <tr>\n",
       "      <th>3</th>\n",
       "      <td>Random Forest</td>\n",
       "      <td>3.716522e+00</td>\n",
       "    </tr>\n",
       "  </tbody>\n",
       "</table>\n",
       "</div>"
      ],
      "text/plain": [
       "               Model           MSE\n",
       "0  Linear Regression  1.496111e-16\n",
       "1      SGD Regressor  1.168560e-02\n",
       "2      Decision Tree  9.904738e+00\n",
       "3      Random Forest  3.716522e+00"
      ]
     },
     "metadata": {},
     "output_type": "display_data"
    },
    {
     "data": {
      "image/png": "[encoded data removed]",
      "text/plain": [
       "<Figure size 1000x600 with 1 Axes>"
      ]
     },
     "metadata": {},
     "output_type": "display_data"
    }
   ],
   "source": [
    "# Save the best model\n",
    "if best_model:\n",
    "    joblib.dump(best_model, \"best_model.pkl\")\n",
    "    print(\"Best model saved as 'best_model.pkl'\")\n",
    "\n",
    "# Compare MSE values\n",
    "mse_df = pd.DataFrame(list(mse_results.items()), columns=[\"Model\", \"MSE\"])\n",
    "display(mse_df)\n",
    "\n",
    "# Plot feature importance for Random Forest\n",
    "if \"Random Forest\" in models:\n",
    "    best_rf = models[\"Random Forest\"].best_estimator_\n",
    "    feature_importances = pd.Series(best_rf.feature_importances_, index=features).sort_values(ascending=False)\n",
    "    plt.figure(figsize=(10, 6))\n",
    "    feature_importances.plot(kind='bar')\n",
    "    plt.title(\"Feature Importance - Random Forest\")\n",
    "    plt.show()\n"
   ]
  },
  {
   "cell_type": "code",
   "execution_count": 11,
   "metadata": {},
   "outputs": [
    {
     "name": "stdout",
     "output_type": "stream",
     "text": [
      "Example prediction: 28.8666\n"
     ]
    }
   ],
   "source": [
    "# Load and test the saved model\n",
    "loaded_model = joblib.load(\"best_model.pkl\")\n",
    "example_input = X_test[0].reshape(1, -1)\n",
    "predicted_score = loaded_model.predict(example_input)\n",
    "print(f\"Example prediction: {predicted_score[0]:.4f}\")\n"
   ]
  },
  {
   "cell_type": "code",
   "execution_count": 12,
   "metadata": {},
   "outputs": [
    {
     "data": {
      "image/png": "[encoded data removed]",
      "text/plain": [
       "<Figure size 800x600 with 1 Axes>"
      ]
     },
     "metadata": {},
     "output_type": "display_data"
    }
   ],
   "source": [
    "# Plot Linear Regression Scatter Graph\n",
    "plt.figure(figsize=(8, 6))\n",
    "y_pred_lr = models[\"Linear Regression\"].predict(X_test)\n",
    "plt.scatter(y_test, y_pred_lr, alpha=0.6)\n",
    "plt.xlabel(\"Actual Score\")\n",
    "plt.ylabel(\"Predicted Score\")\n",
    "plt.title(\"Linear Regression - Actual vs Predicted\")\n",
    "plt.plot([min(y_test), max(y_test)], [min(y_test), max(y_test)], color='red', linestyle='--')\n",
    "plt.show()\n"
   ]
  }
 ],
 "metadata": {
  "kernelspec": {
   "display_name": "envir",
   "language": "python",
   "name": "python3"
  },
  "language_info": {
   "codemirror_mode": {
    "name": "ipython",
    "version": 3
   },
   "file_extension": ".py",
   "mimetype": "text/x-python",
   "name": "python",
   "nbconvert_exporter": "python",
   "pygments_lexer": "ipython3",
   "version": "3.11.9"
  }
 },
 "nbformat": 4,
 "nbformat_minor": 2
}
